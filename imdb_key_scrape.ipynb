{
 "cells": [
  {
   "attachments": {},
   "cell_type": "markdown",
   "metadata": {},
   "source": [
    "## Set Up Cinemagoer"
   ]
  },
  {
   "cell_type": "code",
   "execution_count": 2,
   "metadata": {},
   "outputs": [
    {
     "name": "stdout",
     "output_type": "stream",
     "text": [
      "Collecting git+https://github.com/cinemagoer/cinemagoer\n",
      "  Cloning https://github.com/cinemagoer/cinemagoer to /tmp/pip-req-build-goplzfay\n",
      "  Running command git clone --filter=blob:none --quiet https://github.com/cinemagoer/cinemagoer /tmp/pip-req-build-goplzfay\n",
      "  Resolved https://github.com/cinemagoer/cinemagoer to commit 8326c9c9c224ee540ddfda1a460fa7e96baa1ea1\n",
      "  Preparing metadata (setup.py) ... \u001b[?25ldone\n",
      "\u001b[?25hRequirement already satisfied: SQLAlchemy in /usr/local/python/3.10.4/lib/python3.10/site-packages (from cinemagoer==2023.5.1) (2.0.15)\n",
      "Requirement already satisfied: lxml in /usr/local/python/3.10.4/lib/python3.10/site-packages (from cinemagoer==2023.5.1) (4.9.2)\n",
      "Requirement already satisfied: typing-extensions>=4.2.0 in /home/codespace/.local/lib/python3.10/site-packages (from SQLAlchemy->cinemagoer==2023.5.1) (4.5.0)\n",
      "Requirement already satisfied: greenlet!=0.4.17 in /usr/local/python/3.10.4/lib/python3.10/site-packages (from SQLAlchemy->cinemagoer==2023.5.1) (2.0.2)\n",
      "\n",
      "\u001b[1m[\u001b[0m\u001b[34;49mnotice\u001b[0m\u001b[1;39;49m]\u001b[0m\u001b[39;49m A new release of pip is available: \u001b[0m\u001b[31;49m23.1.1\u001b[0m\u001b[39;49m -> \u001b[0m\u001b[32;49m23.1.2\u001b[0m\n",
      "\u001b[1m[\u001b[0m\u001b[34;49mnotice\u001b[0m\u001b[1;39;49m]\u001b[0m\u001b[39;49m To update, run: \u001b[0m\u001b[32;49mpip install --upgrade pip\u001b[0m\n",
      "Note: you may need to restart the kernel to use updated packages.\n"
     ]
    }
   ],
   "source": [
    "pip install git+https://github.com/cinemagoer/cinemagoer"
   ]
  },
  {
   "cell_type": "code",
   "execution_count": 69,
   "metadata": {},
   "outputs": [],
   "source": [
    "import pandas as pd"
   ]
  },
  {
   "cell_type": "code",
   "execution_count": 3,
   "metadata": {},
   "outputs": [],
   "source": [
    "from imdb import Cinemagoer\n",
    "\n",
    "# create an instance of the Cinemagoer class\n",
    "ia = Cinemagoer()"
   ]
  },
  {
   "cell_type": "code",
   "execution_count": 4,
   "metadata": {},
   "outputs": [
    {
     "name": "stdout",
     "output_type": "stream",
     "text": [
      "The Little Mermaid\n"
     ]
    }
   ],
   "source": [
    "movie = ia.get_movie('5971474')\n",
    "print(movie)"
   ]
  },
  {
   "cell_type": "code",
   "execution_count": 5,
   "metadata": {},
   "outputs": [
    {
     "name": "stdout",
     "output_type": "stream",
     "text": [
      "50\n",
      "['4955642', '1869454', '0314331', '0795421', '3783958', '0097493', '1245492', '0380510', '0360486', '0099653', '3569230', '1038686', '1190080', '0110005', '1700841', '0116365', '0038650', '1058017', '0185431', '0120686', '0092965', '7529770', '0104070', '0414993', '0120889', '1280822', '1212428', '0158983', '4257926', '0086730', '0366548', '5562070', '0101452', '0318997', '8201852', '0839980', '0145653', '0061452', '0120632', '0096787', '0078869', '10161886', '0425123', '0476922', '0438097', '0280760', '1567437', '0085959', '1929263', '0119809']\n"
     ]
    }
   ],
   "source": [
    "keyword = \"heaven\"\n",
    "\n",
    "search = ia.get_keyword(keyword)\n",
    "\n",
    "print(len(search))\n",
    "search_id = [title.movieID for title in search]\n",
    "print(search_id)"
   ]
  },
  {
   "cell_type": "code",
   "execution_count": 68,
   "metadata": {},
   "outputs": [
    {
     "name": "stdout",
     "output_type": "stream",
     "text": [
      "6.6\n"
     ]
    }
   ],
   "source": [
    "test = ia.get_movie('0380510', ['main', 'vote details'])\n",
    "#ia.update(test, 'vote details')\n",
    "print(test.get('rating'))"
   ]
  },
  {
   "cell_type": "code",
   "execution_count": 75,
   "metadata": {},
   "outputs": [],
   "source": [
    "def get_movie_info(id):\n",
    "    res = ia.get_movie(id)\n",
    "    ia.update(res, 'keywords')\n",
    "    \n",
    "    if (res['kind'] == \"movie\"):\n",
    "        title = res['title']\n",
    "        director = res.get('director')\n",
    "        keywords = res.get('keywords')\n",
    "        return {'imdbID': id,\n",
    "               'title': res['title'],\n",
    "               'keywords': res.get('keywords'),\n",
    "               'production companies': res.get('production companies'),\n",
    "               'director': res.get('director'),\n",
    "               'producer': res.get('producer'),\n",
    "               'genres': res.get('genres'),\n",
    "               'rating': res.get('rating'),\n",
    "               'votes': res.get('votes')\n",
    "               }\n",
    "    else:\n",
    "        print(\"removed not movie: \", ia.get_movie(id)['title'])\n",
    "    "
   ]
  },
  {
   "cell_type": "code",
   "execution_count": 73,
   "metadata": {},
   "outputs": [
    {
     "name": "stdout",
     "output_type": "stream",
     "text": [
      "{'imdbID': '0380510', 'title': 'The Lovely Bones', 'keywords': None, 'production companies': [<Company id:0819670[http] name:_Dreamworks Pictures_>, <Company id:0197272[http] name:_Film4_>, <Company id:0046203[http] name:_WingNut Films_>, <Company id:0296091[http] name:_New Zealand Large Budget Screen Production Grant_>, <Company id:0245613[http] name:_Goldcrest Pictures_>, <Company id:0124523[http] name:_Key Creatives_>], 'director': [<Person id:0001392[http] name:_Peter Jackson_>], 'producer': [<Person id:0039244[http] name:_Marc Ashton_>, <Person id:0101991[http] name:_Philippa Boyens_>, <Person id:0116289[http] name:_Anne Bruning_>, <Person id:0192253[http] name:_Carolynne Cunningham_>, <Person id:0001392[http] name:_Peter Jackson_>, <Person id:1353341[http] name:_Ken Kamins_>, <Person id:0678992[http] name:_Aimée Peyronnet_>, <Person id:0743882[http] name:_Tessa Ross_>, <Person id:0000229[http] name:_Steven Spielberg_>, <Person id:0909638[http] name:_Fran Walsh_>, <Person id:1034914[http] name:_James Wilson_>], 'genres': ['Drama', 'Fantasy', 'Thriller'], 'rating': 6.6, 'votes': 173856}\n"
     ]
    }
   ],
   "source": [
    "print(get_movie_info(search_id[7]))\n",
    "\n",
    "# print(ia.get_movie_infoset())\n",
    "# print(res.infoset2keys)\n",
    "# print(res['title'])"
   ]
  },
  {
   "cell_type": "code",
   "execution_count": 74,
   "metadata": {},
   "outputs": [],
   "source": [
    "import requests\n",
    "import time "
   ]
  },
  {
   "cell_type": "code",
   "execution_count": 76,
   "metadata": {},
   "outputs": [
    {
     "name": "stdout",
     "output_type": "stream",
     "text": [
      "removed not movie:  The Good Place\n",
      "removed not movie:  Good Omens\n",
      "removed not movie:  Miracle Workers\n",
      "removed not movie:  Drop Dead Diva\n",
      "removed not movie:  Highway to Heaven\n",
      "removed not movie:  Angels in America\n",
      "removed not movie:  Moral Orel\n"
     ]
    }
   ],
   "source": [
    "imdb_data = []\n",
    "for id in search_id:\n",
    "    time.sleep(0.4)\n",
    "    try:\n",
    "        movie_info = get_movie_info(id)\n",
    "    except:\n",
    "        print('Error occured:', ia.get_movie(id)['title'])\n",
    "        movie_info = {'imdbID': None,\n",
    "               'title': None,\n",
    "               'keywords': None,\n",
    "               'production companies': None,\n",
    "               'director': None,\n",
    "               'producer': None,\n",
    "               'genres': None,\n",
    "               'rating': None,\n",
    "               'votes': None\n",
    "               }\n",
    "    imdb_data.append(movie_info)"
   ]
  },
  {
   "cell_type": "code",
   "execution_count": 83,
   "metadata": {},
   "outputs": [],
   "source": [
    "imdb_data = [item for item in imdb_data if item is not None]"
   ]
  },
  {
   "cell_type": "code",
   "execution_count": 105,
   "metadata": {},
   "outputs": [
    {
     "ename": "KeyError",
     "evalue": "0",
     "output_type": "error",
     "traceback": [
      "\u001b[0;31m---------------------------------------------------------------------------\u001b[0m",
      "\u001b[0;31mKeyError\u001b[0m                                  Traceback (most recent call last)",
      "File \u001b[0;32m~/.local/lib/python3.10/site-packages/IPython/core/formatters.py:708\u001b[0m, in \u001b[0;36mPlainTextFormatter.__call__\u001b[0;34m(self, obj)\u001b[0m\n\u001b[1;32m    701\u001b[0m stream \u001b[39m=\u001b[39m StringIO()\n\u001b[1;32m    702\u001b[0m printer \u001b[39m=\u001b[39m pretty\u001b[39m.\u001b[39mRepresentationPrinter(stream, \u001b[39mself\u001b[39m\u001b[39m.\u001b[39mverbose,\n\u001b[1;32m    703\u001b[0m     \u001b[39mself\u001b[39m\u001b[39m.\u001b[39mmax_width, \u001b[39mself\u001b[39m\u001b[39m.\u001b[39mnewline,\n\u001b[1;32m    704\u001b[0m     max_seq_length\u001b[39m=\u001b[39m\u001b[39mself\u001b[39m\u001b[39m.\u001b[39mmax_seq_length,\n\u001b[1;32m    705\u001b[0m     singleton_pprinters\u001b[39m=\u001b[39m\u001b[39mself\u001b[39m\u001b[39m.\u001b[39msingleton_printers,\n\u001b[1;32m    706\u001b[0m     type_pprinters\u001b[39m=\u001b[39m\u001b[39mself\u001b[39m\u001b[39m.\u001b[39mtype_printers,\n\u001b[1;32m    707\u001b[0m     deferred_pprinters\u001b[39m=\u001b[39m\u001b[39mself\u001b[39m\u001b[39m.\u001b[39mdeferred_printers)\n\u001b[0;32m--> 708\u001b[0m printer\u001b[39m.\u001b[39;49mpretty(obj)\n\u001b[1;32m    709\u001b[0m printer\u001b[39m.\u001b[39mflush()\n\u001b[1;32m    710\u001b[0m \u001b[39mreturn\u001b[39;00m stream\u001b[39m.\u001b[39mgetvalue()\n",
      "File \u001b[0;32m~/.local/lib/python3.10/site-packages/IPython/lib/pretty.py:410\u001b[0m, in \u001b[0;36mRepresentationPrinter.pretty\u001b[0;34m(self, obj)\u001b[0m\n\u001b[1;32m    407\u001b[0m                         \u001b[39mreturn\u001b[39;00m meth(obj, \u001b[39mself\u001b[39m, cycle)\n\u001b[1;32m    408\u001b[0m                 \u001b[39mif\u001b[39;00m \u001b[39mcls\u001b[39m \u001b[39mis\u001b[39;00m \u001b[39mnot\u001b[39;00m \u001b[39mobject\u001b[39m \\\n\u001b[1;32m    409\u001b[0m                         \u001b[39mand\u001b[39;00m \u001b[39mcallable\u001b[39m(\u001b[39mcls\u001b[39m\u001b[39m.\u001b[39m\u001b[39m__dict__\u001b[39m\u001b[39m.\u001b[39mget(\u001b[39m'\u001b[39m\u001b[39m__repr__\u001b[39m\u001b[39m'\u001b[39m)):\n\u001b[0;32m--> 410\u001b[0m                     \u001b[39mreturn\u001b[39;00m _repr_pprint(obj, \u001b[39mself\u001b[39;49m, cycle)\n\u001b[1;32m    412\u001b[0m     \u001b[39mreturn\u001b[39;00m _default_pprint(obj, \u001b[39mself\u001b[39m, cycle)\n\u001b[1;32m    413\u001b[0m \u001b[39mfinally\u001b[39;00m:\n",
      "File \u001b[0;32m~/.local/lib/python3.10/site-packages/IPython/lib/pretty.py:778\u001b[0m, in \u001b[0;36m_repr_pprint\u001b[0;34m(obj, p, cycle)\u001b[0m\n\u001b[1;32m    776\u001b[0m \u001b[39m\u001b[39m\u001b[39m\"\"\"A pprint that just redirects to the normal repr function.\"\"\"\u001b[39;00m\n\u001b[1;32m    777\u001b[0m \u001b[39m# Find newlines and replace them with p.break_()\u001b[39;00m\n\u001b[0;32m--> 778\u001b[0m output \u001b[39m=\u001b[39m \u001b[39mrepr\u001b[39;49m(obj)\n\u001b[1;32m    779\u001b[0m lines \u001b[39m=\u001b[39m output\u001b[39m.\u001b[39msplitlines()\n\u001b[1;32m    780\u001b[0m \u001b[39mwith\u001b[39;00m p\u001b[39m.\u001b[39mgroup():\n",
      "File \u001b[0;32m~/.local/lib/python3.10/site-packages/pandas/core/frame.py:1094\u001b[0m, in \u001b[0;36mDataFrame.__repr__\u001b[0;34m(self)\u001b[0m\n\u001b[1;32m   1091\u001b[0m     \u001b[39mreturn\u001b[39;00m buf\u001b[39m.\u001b[39mgetvalue()\n\u001b[1;32m   1093\u001b[0m repr_params \u001b[39m=\u001b[39m fmt\u001b[39m.\u001b[39mget_dataframe_repr_params()\n\u001b[0;32m-> 1094\u001b[0m \u001b[39mreturn\u001b[39;00m \u001b[39mself\u001b[39;49m\u001b[39m.\u001b[39;49mto_string(\u001b[39m*\u001b[39;49m\u001b[39m*\u001b[39;49mrepr_params)\n",
      "File \u001b[0;32m~/.local/lib/python3.10/site-packages/pandas/core/frame.py:1271\u001b[0m, in \u001b[0;36mDataFrame.to_string\u001b[0;34m(self, buf, columns, col_space, header, index, na_rep, formatters, float_format, sparsify, index_names, justify, max_rows, max_cols, show_dimensions, decimal, line_width, min_rows, max_colwidth, encoding)\u001b[0m\n\u001b[1;32m   1252\u001b[0m \u001b[39mwith\u001b[39;00m option_context(\u001b[39m\"\u001b[39m\u001b[39mdisplay.max_colwidth\u001b[39m\u001b[39m\"\u001b[39m, max_colwidth):\n\u001b[1;32m   1253\u001b[0m     formatter \u001b[39m=\u001b[39m fmt\u001b[39m.\u001b[39mDataFrameFormatter(\n\u001b[1;32m   1254\u001b[0m         \u001b[39mself\u001b[39m,\n\u001b[1;32m   1255\u001b[0m         columns\u001b[39m=\u001b[39mcolumns,\n\u001b[0;32m   (...)\u001b[0m\n\u001b[1;32m   1269\u001b[0m         decimal\u001b[39m=\u001b[39mdecimal,\n\u001b[1;32m   1270\u001b[0m     )\n\u001b[0;32m-> 1271\u001b[0m     \u001b[39mreturn\u001b[39;00m fmt\u001b[39m.\u001b[39;49mDataFrameRenderer(formatter)\u001b[39m.\u001b[39;49mto_string(\n\u001b[1;32m   1272\u001b[0m         buf\u001b[39m=\u001b[39;49mbuf,\n\u001b[1;32m   1273\u001b[0m         encoding\u001b[39m=\u001b[39;49mencoding,\n\u001b[1;32m   1274\u001b[0m         line_width\u001b[39m=\u001b[39;49mline_width,\n\u001b[1;32m   1275\u001b[0m     )\n",
      "File \u001b[0;32m~/.local/lib/python3.10/site-packages/pandas/io/formats/format.py:1134\u001b[0m, in \u001b[0;36mDataFrameRenderer.to_string\u001b[0;34m(self, buf, encoding, line_width)\u001b[0m\n\u001b[1;32m   1131\u001b[0m \u001b[39mfrom\u001b[39;00m \u001b[39mpandas\u001b[39;00m\u001b[39m.\u001b[39;00m\u001b[39mio\u001b[39;00m\u001b[39m.\u001b[39;00m\u001b[39mformats\u001b[39;00m\u001b[39m.\u001b[39;00m\u001b[39mstring\u001b[39;00m \u001b[39mimport\u001b[39;00m StringFormatter\n\u001b[1;32m   1133\u001b[0m string_formatter \u001b[39m=\u001b[39m StringFormatter(\u001b[39mself\u001b[39m\u001b[39m.\u001b[39mfmt, line_width\u001b[39m=\u001b[39mline_width)\n\u001b[0;32m-> 1134\u001b[0m string \u001b[39m=\u001b[39m string_formatter\u001b[39m.\u001b[39;49mto_string()\n\u001b[1;32m   1135\u001b[0m \u001b[39mreturn\u001b[39;00m save_to_buffer(string, buf\u001b[39m=\u001b[39mbuf, encoding\u001b[39m=\u001b[39mencoding)\n",
      "File \u001b[0;32m~/.local/lib/python3.10/site-packages/pandas/io/formats/string.py:30\u001b[0m, in \u001b[0;36mStringFormatter.to_string\u001b[0;34m(self)\u001b[0m\n\u001b[1;32m     29\u001b[0m \u001b[39mdef\u001b[39;00m \u001b[39mto_string\u001b[39m(\u001b[39mself\u001b[39m) \u001b[39m-\u001b[39m\u001b[39m>\u001b[39m \u001b[39mstr\u001b[39m:\n\u001b[0;32m---> 30\u001b[0m     text \u001b[39m=\u001b[39m \u001b[39mself\u001b[39;49m\u001b[39m.\u001b[39;49m_get_string_representation()\n\u001b[1;32m     31\u001b[0m     \u001b[39mif\u001b[39;00m \u001b[39mself\u001b[39m\u001b[39m.\u001b[39mfmt\u001b[39m.\u001b[39mshould_show_dimensions:\n\u001b[1;32m     32\u001b[0m         text \u001b[39m=\u001b[39m \u001b[39m\"\u001b[39m\u001b[39m\"\u001b[39m\u001b[39m.\u001b[39mjoin([text, \u001b[39mself\u001b[39m\u001b[39m.\u001b[39mfmt\u001b[39m.\u001b[39mdimensions_info])\n",
      "File \u001b[0;32m~/.local/lib/python3.10/site-packages/pandas/io/formats/string.py:45\u001b[0m, in \u001b[0;36mStringFormatter._get_string_representation\u001b[0;34m(self)\u001b[0m\n\u001b[1;32m     42\u001b[0m \u001b[39mif\u001b[39;00m \u001b[39mself\u001b[39m\u001b[39m.\u001b[39mfmt\u001b[39m.\u001b[39mframe\u001b[39m.\u001b[39mempty:\n\u001b[1;32m     43\u001b[0m     \u001b[39mreturn\u001b[39;00m \u001b[39mself\u001b[39m\u001b[39m.\u001b[39m_empty_info_line\n\u001b[0;32m---> 45\u001b[0m strcols \u001b[39m=\u001b[39m \u001b[39mself\u001b[39;49m\u001b[39m.\u001b[39;49m_get_strcols()\n\u001b[1;32m     47\u001b[0m \u001b[39mif\u001b[39;00m \u001b[39mself\u001b[39m\u001b[39m.\u001b[39mline_width \u001b[39mis\u001b[39;00m \u001b[39mNone\u001b[39;00m:\n\u001b[1;32m     48\u001b[0m     \u001b[39m# no need to wrap around just print the whole frame\u001b[39;00m\n\u001b[1;32m     49\u001b[0m     \u001b[39mreturn\u001b[39;00m \u001b[39mself\u001b[39m\u001b[39m.\u001b[39madj\u001b[39m.\u001b[39madjoin(\u001b[39m1\u001b[39m, \u001b[39m*\u001b[39mstrcols)\n",
      "File \u001b[0;32m~/.local/lib/python3.10/site-packages/pandas/io/formats/string.py:36\u001b[0m, in \u001b[0;36mStringFormatter._get_strcols\u001b[0;34m(self)\u001b[0m\n\u001b[1;32m     35\u001b[0m \u001b[39mdef\u001b[39;00m \u001b[39m_get_strcols\u001b[39m(\u001b[39mself\u001b[39m) \u001b[39m-\u001b[39m\u001b[39m>\u001b[39m \u001b[39mlist\u001b[39m[\u001b[39mlist\u001b[39m[\u001b[39mstr\u001b[39m]]:\n\u001b[0;32m---> 36\u001b[0m     strcols \u001b[39m=\u001b[39m \u001b[39mself\u001b[39;49m\u001b[39m.\u001b[39;49mfmt\u001b[39m.\u001b[39;49mget_strcols()\n\u001b[1;32m     37\u001b[0m     \u001b[39mif\u001b[39;00m \u001b[39mself\u001b[39m\u001b[39m.\u001b[39mfmt\u001b[39m.\u001b[39mis_truncated:\n\u001b[1;32m     38\u001b[0m         strcols \u001b[39m=\u001b[39m \u001b[39mself\u001b[39m\u001b[39m.\u001b[39m_insert_dot_separators(strcols)\n",
      "File \u001b[0;32m~/.local/lib/python3.10/site-packages/pandas/io/formats/format.py:615\u001b[0m, in \u001b[0;36mDataFrameFormatter.get_strcols\u001b[0;34m(self)\u001b[0m\n\u001b[1;32m    611\u001b[0m \u001b[39mdef\u001b[39;00m \u001b[39mget_strcols\u001b[39m(\u001b[39mself\u001b[39m) \u001b[39m-\u001b[39m\u001b[39m>\u001b[39m \u001b[39mlist\u001b[39m[\u001b[39mlist\u001b[39m[\u001b[39mstr\u001b[39m]]:\n\u001b[1;32m    612\u001b[0m \u001b[39m    \u001b[39m\u001b[39m\"\"\"\u001b[39;00m\n\u001b[1;32m    613\u001b[0m \u001b[39m    Render a DataFrame to a list of columns (as lists of strings).\u001b[39;00m\n\u001b[1;32m    614\u001b[0m \u001b[39m    \"\"\"\u001b[39;00m\n\u001b[0;32m--> 615\u001b[0m     strcols \u001b[39m=\u001b[39m \u001b[39mself\u001b[39;49m\u001b[39m.\u001b[39;49m_get_strcols_without_index()\n\u001b[1;32m    617\u001b[0m     \u001b[39mif\u001b[39;00m \u001b[39mself\u001b[39m\u001b[39m.\u001b[39mindex:\n\u001b[1;32m    618\u001b[0m         str_index \u001b[39m=\u001b[39m \u001b[39mself\u001b[39m\u001b[39m.\u001b[39m_get_formatted_index(\u001b[39mself\u001b[39m\u001b[39m.\u001b[39mtr_frame)\n",
      "File \u001b[0;32m~/.local/lib/python3.10/site-packages/pandas/io/formats/format.py:881\u001b[0m, in \u001b[0;36mDataFrameFormatter._get_strcols_without_index\u001b[0;34m(self)\u001b[0m\n\u001b[1;32m    877\u001b[0m cheader \u001b[39m=\u001b[39m str_columns[i]\n\u001b[1;32m    878\u001b[0m header_colwidth \u001b[39m=\u001b[39m \u001b[39mmax\u001b[39m(\n\u001b[1;32m    879\u001b[0m     \u001b[39mint\u001b[39m(\u001b[39mself\u001b[39m\u001b[39m.\u001b[39mcol_space\u001b[39m.\u001b[39mget(c, \u001b[39m0\u001b[39m)), \u001b[39m*\u001b[39m(\u001b[39mself\u001b[39m\u001b[39m.\u001b[39madj\u001b[39m.\u001b[39mlen(x) \u001b[39mfor\u001b[39;00m x \u001b[39min\u001b[39;00m cheader)\n\u001b[1;32m    880\u001b[0m )\n\u001b[0;32m--> 881\u001b[0m fmt_values \u001b[39m=\u001b[39m \u001b[39mself\u001b[39;49m\u001b[39m.\u001b[39;49mformat_col(i)\n\u001b[1;32m    882\u001b[0m fmt_values \u001b[39m=\u001b[39m _make_fixed_width(\n\u001b[1;32m    883\u001b[0m     fmt_values, \u001b[39mself\u001b[39m\u001b[39m.\u001b[39mjustify, minimum\u001b[39m=\u001b[39mheader_colwidth, adj\u001b[39m=\u001b[39m\u001b[39mself\u001b[39m\u001b[39m.\u001b[39madj\n\u001b[1;32m    884\u001b[0m )\n\u001b[1;32m    886\u001b[0m max_len \u001b[39m=\u001b[39m \u001b[39mmax\u001b[39m(\u001b[39mmax\u001b[39m(\u001b[39mself\u001b[39m\u001b[39m.\u001b[39madj\u001b[39m.\u001b[39mlen(x) \u001b[39mfor\u001b[39;00m x \u001b[39min\u001b[39;00m fmt_values), header_colwidth)\n",
      "File \u001b[0;32m~/.local/lib/python3.10/site-packages/pandas/io/formats/format.py:895\u001b[0m, in \u001b[0;36mDataFrameFormatter.format_col\u001b[0;34m(self, i)\u001b[0m\n\u001b[1;32m    893\u001b[0m frame \u001b[39m=\u001b[39m \u001b[39mself\u001b[39m\u001b[39m.\u001b[39mtr_frame\n\u001b[1;32m    894\u001b[0m formatter \u001b[39m=\u001b[39m \u001b[39mself\u001b[39m\u001b[39m.\u001b[39m_get_formatter(i)\n\u001b[0;32m--> 895\u001b[0m \u001b[39mreturn\u001b[39;00m format_array(\n\u001b[1;32m    896\u001b[0m     frame\u001b[39m.\u001b[39;49miloc[:, i]\u001b[39m.\u001b[39;49m_values,\n\u001b[1;32m    897\u001b[0m     formatter,\n\u001b[1;32m    898\u001b[0m     float_format\u001b[39m=\u001b[39;49m\u001b[39mself\u001b[39;49m\u001b[39m.\u001b[39;49mfloat_format,\n\u001b[1;32m    899\u001b[0m     na_rep\u001b[39m=\u001b[39;49m\u001b[39mself\u001b[39;49m\u001b[39m.\u001b[39;49mna_rep,\n\u001b[1;32m    900\u001b[0m     space\u001b[39m=\u001b[39;49m\u001b[39mself\u001b[39;49m\u001b[39m.\u001b[39;49mcol_space\u001b[39m.\u001b[39;49mget(frame\u001b[39m.\u001b[39;49mcolumns[i]),\n\u001b[1;32m    901\u001b[0m     decimal\u001b[39m=\u001b[39;49m\u001b[39mself\u001b[39;49m\u001b[39m.\u001b[39;49mdecimal,\n\u001b[1;32m    902\u001b[0m     leading_space\u001b[39m=\u001b[39;49m\u001b[39mself\u001b[39;49m\u001b[39m.\u001b[39;49mindex,\n\u001b[1;32m    903\u001b[0m )\n",
      "File \u001b[0;32m~/.local/lib/python3.10/site-packages/pandas/io/formats/format.py:1330\u001b[0m, in \u001b[0;36mformat_array\u001b[0;34m(values, formatter, float_format, na_rep, digits, space, justify, decimal, leading_space, quoting, fallback_formatter)\u001b[0m\n\u001b[1;32m   1314\u001b[0m     digits \u001b[39m=\u001b[39m get_option(\u001b[39m\"\u001b[39m\u001b[39mdisplay.precision\u001b[39m\u001b[39m\"\u001b[39m)\n\u001b[1;32m   1316\u001b[0m fmt_obj \u001b[39m=\u001b[39m fmt_klass(\n\u001b[1;32m   1317\u001b[0m     values,\n\u001b[1;32m   1318\u001b[0m     digits\u001b[39m=\u001b[39mdigits,\n\u001b[0;32m   (...)\u001b[0m\n\u001b[1;32m   1327\u001b[0m     fallback_formatter\u001b[39m=\u001b[39mfallback_formatter,\n\u001b[1;32m   1328\u001b[0m )\n\u001b[0;32m-> 1330\u001b[0m \u001b[39mreturn\u001b[39;00m fmt_obj\u001b[39m.\u001b[39;49mget_result()\n",
      "File \u001b[0;32m~/.local/lib/python3.10/site-packages/pandas/io/formats/format.py:1363\u001b[0m, in \u001b[0;36mGenericArrayFormatter.get_result\u001b[0;34m(self)\u001b[0m\n\u001b[1;32m   1362\u001b[0m \u001b[39mdef\u001b[39;00m \u001b[39mget_result\u001b[39m(\u001b[39mself\u001b[39m) \u001b[39m-\u001b[39m\u001b[39m>\u001b[39m \u001b[39mlist\u001b[39m[\u001b[39mstr\u001b[39m]:\n\u001b[0;32m-> 1363\u001b[0m     fmt_values \u001b[39m=\u001b[39m \u001b[39mself\u001b[39;49m\u001b[39m.\u001b[39;49m_format_strings()\n\u001b[1;32m   1364\u001b[0m     \u001b[39mreturn\u001b[39;00m _make_fixed_width(fmt_values, \u001b[39mself\u001b[39m\u001b[39m.\u001b[39mjustify)\n",
      "File \u001b[0;32m~/.local/lib/python3.10/site-packages/pandas/io/formats/format.py:1430\u001b[0m, in \u001b[0;36mGenericArrayFormatter._format_strings\u001b[0;34m(self)\u001b[0m\n\u001b[1;32m   1428\u001b[0m \u001b[39mfor\u001b[39;00m i, v \u001b[39min\u001b[39;00m \u001b[39menumerate\u001b[39m(vals):\n\u001b[1;32m   1429\u001b[0m     \u001b[39mif\u001b[39;00m \u001b[39mnot\u001b[39;00m is_float_type[i] \u001b[39mand\u001b[39;00m leading_space \u001b[39mor\u001b[39;00m \u001b[39mself\u001b[39m\u001b[39m.\u001b[39mformatter \u001b[39mis\u001b[39;00m \u001b[39mnot\u001b[39;00m \u001b[39mNone\u001b[39;00m:\n\u001b[0;32m-> 1430\u001b[0m         fmt_values\u001b[39m.\u001b[39mappend(\u001b[39mf\u001b[39m\u001b[39m\"\u001b[39m\u001b[39m \u001b[39m\u001b[39m{\u001b[39;00m_format(v)\u001b[39m}\u001b[39;00m\u001b[39m\"\u001b[39m)\n\u001b[1;32m   1431\u001b[0m     \u001b[39melif\u001b[39;00m is_float_type[i]:\n\u001b[1;32m   1432\u001b[0m         fmt_values\u001b[39m.\u001b[39mappend(float_format(v))\n",
      "File \u001b[0;32m~/.local/lib/python3.10/site-packages/pandas/io/formats/format.py:1410\u001b[0m, in \u001b[0;36mGenericArrayFormatter._format_strings.<locals>._format\u001b[0;34m(x)\u001b[0m\n\u001b[1;32m   1407\u001b[0m     \u001b[39mreturn\u001b[39;00m \u001b[39mrepr\u001b[39m(x)\n\u001b[1;32m   1408\u001b[0m \u001b[39melse\u001b[39;00m:\n\u001b[1;32m   1409\u001b[0m     \u001b[39m# object dtype\u001b[39;00m\n\u001b[0;32m-> 1410\u001b[0m     \u001b[39mreturn\u001b[39;00m \u001b[39mstr\u001b[39m(formatter(x))\n",
      "File \u001b[0;32m~/.local/lib/python3.10/site-packages/pandas/io/formats/printing.py:222\u001b[0m, in \u001b[0;36mpprint_thing\u001b[0;34m(thing, _nest_lvl, escape_chars, default_escapes, quote_strings, max_seq_items)\u001b[0m\n\u001b[1;32m    218\u001b[0m     result \u001b[39m=\u001b[39m _pprint_dict(\n\u001b[1;32m    219\u001b[0m         thing, _nest_lvl, quote_strings\u001b[39m=\u001b[39m\u001b[39mTrue\u001b[39;00m, max_seq_items\u001b[39m=\u001b[39mmax_seq_items\n\u001b[1;32m    220\u001b[0m     )\n\u001b[1;32m    221\u001b[0m \u001b[39melif\u001b[39;00m is_sequence(thing) \u001b[39mand\u001b[39;00m _nest_lvl \u001b[39m<\u001b[39m get_option(\u001b[39m\"\u001b[39m\u001b[39mdisplay.pprint_nest_depth\u001b[39m\u001b[39m\"\u001b[39m):\n\u001b[0;32m--> 222\u001b[0m     result \u001b[39m=\u001b[39m _pprint_seq(\n\u001b[1;32m    223\u001b[0m         thing,\n\u001b[1;32m    224\u001b[0m         _nest_lvl,\n\u001b[1;32m    225\u001b[0m         escape_chars\u001b[39m=\u001b[39;49mescape_chars,\n\u001b[1;32m    226\u001b[0m         quote_strings\u001b[39m=\u001b[39;49mquote_strings,\n\u001b[1;32m    227\u001b[0m         max_seq_items\u001b[39m=\u001b[39;49mmax_seq_items,\n\u001b[1;32m    228\u001b[0m     )\n\u001b[1;32m    229\u001b[0m \u001b[39melif\u001b[39;00m \u001b[39misinstance\u001b[39m(thing, \u001b[39mstr\u001b[39m) \u001b[39mand\u001b[39;00m quote_strings:\n\u001b[1;32m    230\u001b[0m     result \u001b[39m=\u001b[39m \u001b[39mf\u001b[39m\u001b[39m\"\u001b[39m\u001b[39m'\u001b[39m\u001b[39m{\u001b[39;00mas_escaped_string(thing)\u001b[39m}\u001b[39;00m\u001b[39m'\u001b[39m\u001b[39m\"\u001b[39m\n",
      "File \u001b[0;32m~/.local/lib/python3.10/site-packages/pandas/io/formats/printing.py:119\u001b[0m, in \u001b[0;36m_pprint_seq\u001b[0;34m(seq, _nest_lvl, max_seq_items, **kwds)\u001b[0m\n\u001b[1;32m    117\u001b[0m s \u001b[39m=\u001b[39m \u001b[39miter\u001b[39m(seq)\n\u001b[1;32m    118\u001b[0m \u001b[39m# handle sets, no slicing\u001b[39;00m\n\u001b[0;32m--> 119\u001b[0m r \u001b[39m=\u001b[39m [\n\u001b[1;32m    120\u001b[0m     pprint_thing(\u001b[39mnext\u001b[39m(s), _nest_lvl \u001b[39m+\u001b[39m \u001b[39m1\u001b[39m, max_seq_items\u001b[39m=\u001b[39mmax_seq_items, \u001b[39m*\u001b[39m\u001b[39m*\u001b[39mkwds)\n\u001b[1;32m    121\u001b[0m     \u001b[39mfor\u001b[39;00m i \u001b[39min\u001b[39;00m \u001b[39mrange\u001b[39m(\u001b[39mmin\u001b[39m(nitems, \u001b[39mlen\u001b[39m(seq)))\n\u001b[1;32m    122\u001b[0m ]\n\u001b[1;32m    123\u001b[0m body \u001b[39m=\u001b[39m \u001b[39m\"\u001b[39m\u001b[39m, \u001b[39m\u001b[39m\"\u001b[39m\u001b[39m.\u001b[39mjoin(r)\n\u001b[1;32m    125\u001b[0m \u001b[39mif\u001b[39;00m nitems \u001b[39m<\u001b[39m \u001b[39mlen\u001b[39m(seq):\n",
      "File \u001b[0;32m~/.local/lib/python3.10/site-packages/pandas/io/formats/printing.py:120\u001b[0m, in \u001b[0;36m<listcomp>\u001b[0;34m(.0)\u001b[0m\n\u001b[1;32m    117\u001b[0m s \u001b[39m=\u001b[39m \u001b[39miter\u001b[39m(seq)\n\u001b[1;32m    118\u001b[0m \u001b[39m# handle sets, no slicing\u001b[39;00m\n\u001b[1;32m    119\u001b[0m r \u001b[39m=\u001b[39m [\n\u001b[0;32m--> 120\u001b[0m     pprint_thing(\u001b[39mnext\u001b[39;49m(s), _nest_lvl \u001b[39m+\u001b[39;49m \u001b[39m1\u001b[39;49m, max_seq_items\u001b[39m=\u001b[39;49mmax_seq_items, \u001b[39m*\u001b[39;49m\u001b[39m*\u001b[39;49mkwds)\n\u001b[1;32m    121\u001b[0m     \u001b[39mfor\u001b[39;00m i \u001b[39min\u001b[39;00m \u001b[39mrange\u001b[39m(\u001b[39mmin\u001b[39m(nitems, \u001b[39mlen\u001b[39m(seq)))\n\u001b[1;32m    122\u001b[0m ]\n\u001b[1;32m    123\u001b[0m body \u001b[39m=\u001b[39m \u001b[39m\"\u001b[39m\u001b[39m, \u001b[39m\u001b[39m\"\u001b[39m\u001b[39m.\u001b[39mjoin(r)\n\u001b[1;32m    125\u001b[0m \u001b[39mif\u001b[39;00m nitems \u001b[39m<\u001b[39m \u001b[39mlen\u001b[39m(seq):\n",
      "File \u001b[0;32m~/.local/lib/python3.10/site-packages/pandas/io/formats/printing.py:222\u001b[0m, in \u001b[0;36mpprint_thing\u001b[0;34m(thing, _nest_lvl, escape_chars, default_escapes, quote_strings, max_seq_items)\u001b[0m\n\u001b[1;32m    218\u001b[0m     result \u001b[39m=\u001b[39m _pprint_dict(\n\u001b[1;32m    219\u001b[0m         thing, _nest_lvl, quote_strings\u001b[39m=\u001b[39m\u001b[39mTrue\u001b[39;00m, max_seq_items\u001b[39m=\u001b[39mmax_seq_items\n\u001b[1;32m    220\u001b[0m     )\n\u001b[1;32m    221\u001b[0m \u001b[39melif\u001b[39;00m is_sequence(thing) \u001b[39mand\u001b[39;00m _nest_lvl \u001b[39m<\u001b[39m get_option(\u001b[39m\"\u001b[39m\u001b[39mdisplay.pprint_nest_depth\u001b[39m\u001b[39m\"\u001b[39m):\n\u001b[0;32m--> 222\u001b[0m     result \u001b[39m=\u001b[39m _pprint_seq(\n\u001b[1;32m    223\u001b[0m         thing,\n\u001b[1;32m    224\u001b[0m         _nest_lvl,\n\u001b[1;32m    225\u001b[0m         escape_chars\u001b[39m=\u001b[39;49mescape_chars,\n\u001b[1;32m    226\u001b[0m         quote_strings\u001b[39m=\u001b[39;49mquote_strings,\n\u001b[1;32m    227\u001b[0m         max_seq_items\u001b[39m=\u001b[39;49mmax_seq_items,\n\u001b[1;32m    228\u001b[0m     )\n\u001b[1;32m    229\u001b[0m \u001b[39melif\u001b[39;00m \u001b[39misinstance\u001b[39m(thing, \u001b[39mstr\u001b[39m) \u001b[39mand\u001b[39;00m quote_strings:\n\u001b[1;32m    230\u001b[0m     result \u001b[39m=\u001b[39m \u001b[39mf\u001b[39m\u001b[39m\"\u001b[39m\u001b[39m'\u001b[39m\u001b[39m{\u001b[39;00mas_escaped_string(thing)\u001b[39m}\u001b[39;00m\u001b[39m'\u001b[39m\u001b[39m\"\u001b[39m\n",
      "File \u001b[0;32m~/.local/lib/python3.10/site-packages/pandas/io/formats/printing.py:119\u001b[0m, in \u001b[0;36m_pprint_seq\u001b[0;34m(seq, _nest_lvl, max_seq_items, **kwds)\u001b[0m\n\u001b[1;32m    117\u001b[0m s \u001b[39m=\u001b[39m \u001b[39miter\u001b[39m(seq)\n\u001b[1;32m    118\u001b[0m \u001b[39m# handle sets, no slicing\u001b[39;00m\n\u001b[0;32m--> 119\u001b[0m r \u001b[39m=\u001b[39m [\n\u001b[1;32m    120\u001b[0m     pprint_thing(\u001b[39mnext\u001b[39m(s), _nest_lvl \u001b[39m+\u001b[39m \u001b[39m1\u001b[39m, max_seq_items\u001b[39m=\u001b[39mmax_seq_items, \u001b[39m*\u001b[39m\u001b[39m*\u001b[39mkwds)\n\u001b[1;32m    121\u001b[0m     \u001b[39mfor\u001b[39;00m i \u001b[39min\u001b[39;00m \u001b[39mrange\u001b[39m(\u001b[39mmin\u001b[39m(nitems, \u001b[39mlen\u001b[39m(seq)))\n\u001b[1;32m    122\u001b[0m ]\n\u001b[1;32m    123\u001b[0m body \u001b[39m=\u001b[39m \u001b[39m\"\u001b[39m\u001b[39m, \u001b[39m\u001b[39m\"\u001b[39m\u001b[39m.\u001b[39mjoin(r)\n\u001b[1;32m    125\u001b[0m \u001b[39mif\u001b[39;00m nitems \u001b[39m<\u001b[39m \u001b[39mlen\u001b[39m(seq):\n",
      "File \u001b[0;32m~/.local/lib/python3.10/site-packages/pandas/io/formats/printing.py:120\u001b[0m, in \u001b[0;36m<listcomp>\u001b[0;34m(.0)\u001b[0m\n\u001b[1;32m    117\u001b[0m s \u001b[39m=\u001b[39m \u001b[39miter\u001b[39m(seq)\n\u001b[1;32m    118\u001b[0m \u001b[39m# handle sets, no slicing\u001b[39;00m\n\u001b[1;32m    119\u001b[0m r \u001b[39m=\u001b[39m [\n\u001b[0;32m--> 120\u001b[0m     pprint_thing(\u001b[39mnext\u001b[39;49m(s), _nest_lvl \u001b[39m+\u001b[39m \u001b[39m1\u001b[39m, max_seq_items\u001b[39m=\u001b[39mmax_seq_items, \u001b[39m*\u001b[39m\u001b[39m*\u001b[39mkwds)\n\u001b[1;32m    121\u001b[0m     \u001b[39mfor\u001b[39;00m i \u001b[39min\u001b[39;00m \u001b[39mrange\u001b[39m(\u001b[39mmin\u001b[39m(nitems, \u001b[39mlen\u001b[39m(seq)))\n\u001b[1;32m    122\u001b[0m ]\n\u001b[1;32m    123\u001b[0m body \u001b[39m=\u001b[39m \u001b[39m\"\u001b[39m\u001b[39m, \u001b[39m\u001b[39m\"\u001b[39m\u001b[39m.\u001b[39mjoin(r)\n\u001b[1;32m    125\u001b[0m \u001b[39mif\u001b[39;00m nitems \u001b[39m<\u001b[39m \u001b[39mlen\u001b[39m(seq):\n",
      "File \u001b[0;32m~/.python/current/lib/python3.10/site-packages/imdb/utils.py:1503\u001b[0m, in \u001b[0;36m_Container.__getitem__\u001b[0;34m(self, key)\u001b[0m\n\u001b[1;32m   1501\u001b[0m     rawData \u001b[39m=\u001b[39m \u001b[39mself\u001b[39m\u001b[39m.\u001b[39mdata[\u001b[39mself\u001b[39m\u001b[39m.\u001b[39mkeys_alias[key]]\n\u001b[1;32m   1502\u001b[0m \u001b[39melse\u001b[39;00m:\n\u001b[0;32m-> 1503\u001b[0m     rawData \u001b[39m=\u001b[39m \u001b[39mself\u001b[39;49m\u001b[39m.\u001b[39;49mdata[key]\n\u001b[1;32m   1504\u001b[0m \u001b[39mif\u001b[39;00m key \u001b[39min\u001b[39;00m \u001b[39mself\u001b[39m\u001b[39m.\u001b[39mkeys_tomodify \u001b[39mand\u001b[39;00m \\\n\u001b[1;32m   1505\u001b[0m         \u001b[39mself\u001b[39m\u001b[39m.\u001b[39mmodFunct \u001b[39mnot\u001b[39;00m \u001b[39min\u001b[39;00m (\u001b[39mNone\u001b[39;00m, modNull):\n\u001b[1;32m   1506\u001b[0m     \u001b[39mtry\u001b[39;00m:\n",
      "\u001b[0;31mKeyError\u001b[0m: 0"
     ]
    },
    {
     "ename": "KeyError",
     "evalue": "0",
     "output_type": "error",
     "traceback": [
      "\u001b[0;31m---------------------------------------------------------------------------\u001b[0m",
      "\u001b[0;31mKeyError\u001b[0m                                  Traceback (most recent call last)",
      "File \u001b[0;32m~/.local/lib/python3.10/site-packages/IPython/core/formatters.py:344\u001b[0m, in \u001b[0;36mBaseFormatter.__call__\u001b[0;34m(self, obj)\u001b[0m\n\u001b[1;32m    342\u001b[0m     method \u001b[39m=\u001b[39m get_real_method(obj, \u001b[39mself\u001b[39m\u001b[39m.\u001b[39mprint_method)\n\u001b[1;32m    343\u001b[0m     \u001b[39mif\u001b[39;00m method \u001b[39mis\u001b[39;00m \u001b[39mnot\u001b[39;00m \u001b[39mNone\u001b[39;00m:\n\u001b[0;32m--> 344\u001b[0m         \u001b[39mreturn\u001b[39;00m method()\n\u001b[1;32m    345\u001b[0m     \u001b[39mreturn\u001b[39;00m \u001b[39mNone\u001b[39;00m\n\u001b[1;32m    346\u001b[0m \u001b[39melse\u001b[39;00m:\n",
      "File \u001b[0;32m~/.local/lib/python3.10/site-packages/pandas/core/frame.py:1136\u001b[0m, in \u001b[0;36mDataFrame._repr_html_\u001b[0;34m(self)\u001b[0m\n\u001b[1;32m   1114\u001b[0m     show_dimensions \u001b[39m=\u001b[39m get_option(\u001b[39m\"\u001b[39m\u001b[39mdisplay.show_dimensions\u001b[39m\u001b[39m\"\u001b[39m)\n\u001b[1;32m   1116\u001b[0m     formatter \u001b[39m=\u001b[39m fmt\u001b[39m.\u001b[39mDataFrameFormatter(\n\u001b[1;32m   1117\u001b[0m         \u001b[39mself\u001b[39m,\n\u001b[1;32m   1118\u001b[0m         columns\u001b[39m=\u001b[39m\u001b[39mNone\u001b[39;00m,\n\u001b[0;32m   (...)\u001b[0m\n\u001b[1;32m   1134\u001b[0m         decimal\u001b[39m=\u001b[39m\u001b[39m\"\u001b[39m\u001b[39m.\u001b[39m\u001b[39m\"\u001b[39m,\n\u001b[1;32m   1135\u001b[0m     )\n\u001b[0;32m-> 1136\u001b[0m     \u001b[39mreturn\u001b[39;00m fmt\u001b[39m.\u001b[39;49mDataFrameRenderer(formatter)\u001b[39m.\u001b[39;49mto_html(notebook\u001b[39m=\u001b[39;49m\u001b[39mTrue\u001b[39;49;00m)\n\u001b[1;32m   1137\u001b[0m \u001b[39melse\u001b[39;00m:\n\u001b[1;32m   1138\u001b[0m     \u001b[39mreturn\u001b[39;00m \u001b[39mNone\u001b[39;00m\n",
      "File \u001b[0;32m~/.local/lib/python3.10/site-packages/pandas/io/formats/format.py:1108\u001b[0m, in \u001b[0;36mDataFrameRenderer.to_html\u001b[0;34m(self, buf, encoding, classes, notebook, border, table_id, render_links)\u001b[0m\n\u001b[1;32m   1099\u001b[0m Klass \u001b[39m=\u001b[39m NotebookFormatter \u001b[39mif\u001b[39;00m notebook \u001b[39melse\u001b[39;00m HTMLFormatter\n\u001b[1;32m   1101\u001b[0m html_formatter \u001b[39m=\u001b[39m Klass(\n\u001b[1;32m   1102\u001b[0m     \u001b[39mself\u001b[39m\u001b[39m.\u001b[39mfmt,\n\u001b[1;32m   1103\u001b[0m     classes\u001b[39m=\u001b[39mclasses,\n\u001b[0;32m   (...)\u001b[0m\n\u001b[1;32m   1106\u001b[0m     render_links\u001b[39m=\u001b[39mrender_links,\n\u001b[1;32m   1107\u001b[0m )\n\u001b[0;32m-> 1108\u001b[0m string \u001b[39m=\u001b[39m html_formatter\u001b[39m.\u001b[39;49mto_string()\n\u001b[1;32m   1109\u001b[0m \u001b[39mreturn\u001b[39;00m save_to_buffer(string, buf\u001b[39m=\u001b[39mbuf, encoding\u001b[39m=\u001b[39mencoding)\n",
      "File \u001b[0;32m~/.local/lib/python3.10/site-packages/pandas/io/formats/html.py:77\u001b[0m, in \u001b[0;36mHTMLFormatter.to_string\u001b[0;34m(self)\u001b[0m\n\u001b[1;32m     76\u001b[0m \u001b[39mdef\u001b[39;00m \u001b[39mto_string\u001b[39m(\u001b[39mself\u001b[39m) \u001b[39m-\u001b[39m\u001b[39m>\u001b[39m \u001b[39mstr\u001b[39m:\n\u001b[0;32m---> 77\u001b[0m     lines \u001b[39m=\u001b[39m \u001b[39mself\u001b[39;49m\u001b[39m.\u001b[39;49mrender()\n\u001b[1;32m     78\u001b[0m     \u001b[39mif\u001b[39;00m \u001b[39many\u001b[39m(\u001b[39misinstance\u001b[39m(x, \u001b[39mstr\u001b[39m) \u001b[39mfor\u001b[39;00m x \u001b[39min\u001b[39;00m lines):\n\u001b[1;32m     79\u001b[0m         lines \u001b[39m=\u001b[39m [\u001b[39mstr\u001b[39m(x) \u001b[39mfor\u001b[39;00m x \u001b[39min\u001b[39;00m lines]\n",
      "File \u001b[0;32m~/.local/lib/python3.10/site-packages/pandas/io/formats/html.py:631\u001b[0m, in \u001b[0;36mNotebookFormatter.render\u001b[0;34m(self)\u001b[0m\n\u001b[1;32m    629\u001b[0m \u001b[39mself\u001b[39m\u001b[39m.\u001b[39mwrite(\u001b[39m\"\u001b[39m\u001b[39m<div>\u001b[39m\u001b[39m\"\u001b[39m)\n\u001b[1;32m    630\u001b[0m \u001b[39mself\u001b[39m\u001b[39m.\u001b[39mwrite_style()\n\u001b[0;32m--> 631\u001b[0m \u001b[39msuper\u001b[39;49m()\u001b[39m.\u001b[39;49mrender()\n\u001b[1;32m    632\u001b[0m \u001b[39mself\u001b[39m\u001b[39m.\u001b[39mwrite(\u001b[39m\"\u001b[39m\u001b[39m</div>\u001b[39m\u001b[39m\"\u001b[39m)\n\u001b[1;32m    633\u001b[0m \u001b[39mreturn\u001b[39;00m \u001b[39mself\u001b[39m\u001b[39m.\u001b[39melements\n",
      "File \u001b[0;32m~/.local/lib/python3.10/site-packages/pandas/io/formats/html.py:83\u001b[0m, in \u001b[0;36mHTMLFormatter.render\u001b[0;34m(self)\u001b[0m\n\u001b[1;32m     82\u001b[0m \u001b[39mdef\u001b[39;00m \u001b[39mrender\u001b[39m(\u001b[39mself\u001b[39m) \u001b[39m-\u001b[39m\u001b[39m>\u001b[39m \u001b[39mlist\u001b[39m[\u001b[39mstr\u001b[39m]:\n\u001b[0;32m---> 83\u001b[0m     \u001b[39mself\u001b[39;49m\u001b[39m.\u001b[39;49m_write_table()\n\u001b[1;32m     85\u001b[0m     \u001b[39mif\u001b[39;00m \u001b[39mself\u001b[39m\u001b[39m.\u001b[39mshould_show_dimensions:\n\u001b[1;32m     86\u001b[0m         by \u001b[39m=\u001b[39m \u001b[39mchr\u001b[39m(\u001b[39m215\u001b[39m)  \u001b[39m# ×\u001b[39;00m\n",
      "File \u001b[0;32m~/.local/lib/python3.10/site-packages/pandas/io/formats/html.py:258\u001b[0m, in \u001b[0;36mHTMLFormatter._write_table\u001b[0;34m(self, indent)\u001b[0m\n\u001b[1;32m    255\u001b[0m \u001b[39mif\u001b[39;00m \u001b[39mself\u001b[39m\u001b[39m.\u001b[39mfmt\u001b[39m.\u001b[39mheader \u001b[39mor\u001b[39;00m \u001b[39mself\u001b[39m\u001b[39m.\u001b[39mshow_row_idx_names:\n\u001b[1;32m    256\u001b[0m     \u001b[39mself\u001b[39m\u001b[39m.\u001b[39m_write_header(indent \u001b[39m+\u001b[39m \u001b[39mself\u001b[39m\u001b[39m.\u001b[39mindent_delta)\n\u001b[0;32m--> 258\u001b[0m \u001b[39mself\u001b[39;49m\u001b[39m.\u001b[39;49m_write_body(indent \u001b[39m+\u001b[39;49m \u001b[39mself\u001b[39;49m\u001b[39m.\u001b[39;49mindent_delta)\n\u001b[1;32m    260\u001b[0m \u001b[39mself\u001b[39m\u001b[39m.\u001b[39mwrite(\u001b[39m\"\u001b[39m\u001b[39m</table>\u001b[39m\u001b[39m\"\u001b[39m, indent)\n",
      "File \u001b[0;32m~/.local/lib/python3.10/site-packages/pandas/io/formats/html.py:406\u001b[0m, in \u001b[0;36mHTMLFormatter._write_body\u001b[0;34m(self, indent)\u001b[0m\n\u001b[1;32m    404\u001b[0m \u001b[39mdef\u001b[39;00m \u001b[39m_write_body\u001b[39m(\u001b[39mself\u001b[39m, indent: \u001b[39mint\u001b[39m) \u001b[39m-\u001b[39m\u001b[39m>\u001b[39m \u001b[39mNone\u001b[39;00m:\n\u001b[1;32m    405\u001b[0m     \u001b[39mself\u001b[39m\u001b[39m.\u001b[39mwrite(\u001b[39m\"\u001b[39m\u001b[39m<tbody>\u001b[39m\u001b[39m\"\u001b[39m, indent)\n\u001b[0;32m--> 406\u001b[0m     fmt_values \u001b[39m=\u001b[39m \u001b[39mself\u001b[39;49m\u001b[39m.\u001b[39;49m_get_formatted_values()\n\u001b[1;32m    408\u001b[0m     \u001b[39m# write values\u001b[39;00m\n\u001b[1;32m    409\u001b[0m     \u001b[39mif\u001b[39;00m \u001b[39mself\u001b[39m\u001b[39m.\u001b[39mfmt\u001b[39m.\u001b[39mindex \u001b[39mand\u001b[39;00m \u001b[39misinstance\u001b[39m(\u001b[39mself\u001b[39m\u001b[39m.\u001b[39mframe\u001b[39m.\u001b[39mindex, MultiIndex):\n",
      "File \u001b[0;32m~/.local/lib/python3.10/site-packages/pandas/io/formats/html.py:595\u001b[0m, in \u001b[0;36mNotebookFormatter._get_formatted_values\u001b[0;34m(self)\u001b[0m\n\u001b[1;32m    594\u001b[0m \u001b[39mdef\u001b[39;00m \u001b[39m_get_formatted_values\u001b[39m(\u001b[39mself\u001b[39m) \u001b[39m-\u001b[39m\u001b[39m>\u001b[39m \u001b[39mdict\u001b[39m[\u001b[39mint\u001b[39m, \u001b[39mlist\u001b[39m[\u001b[39mstr\u001b[39m]]:\n\u001b[0;32m--> 595\u001b[0m     \u001b[39mreturn\u001b[39;00m {i: \u001b[39mself\u001b[39m\u001b[39m.\u001b[39mfmt\u001b[39m.\u001b[39mformat_col(i) \u001b[39mfor\u001b[39;00m i \u001b[39min\u001b[39;00m \u001b[39mrange\u001b[39m(\u001b[39mself\u001b[39m\u001b[39m.\u001b[39mncols)}\n",
      "File \u001b[0;32m~/.local/lib/python3.10/site-packages/pandas/io/formats/html.py:595\u001b[0m, in \u001b[0;36m<dictcomp>\u001b[0;34m(.0)\u001b[0m\n\u001b[1;32m    594\u001b[0m \u001b[39mdef\u001b[39;00m \u001b[39m_get_formatted_values\u001b[39m(\u001b[39mself\u001b[39m) \u001b[39m-\u001b[39m\u001b[39m>\u001b[39m \u001b[39mdict\u001b[39m[\u001b[39mint\u001b[39m, \u001b[39mlist\u001b[39m[\u001b[39mstr\u001b[39m]]:\n\u001b[0;32m--> 595\u001b[0m     \u001b[39mreturn\u001b[39;00m {i: \u001b[39mself\u001b[39;49m\u001b[39m.\u001b[39;49mfmt\u001b[39m.\u001b[39;49mformat_col(i) \u001b[39mfor\u001b[39;00m i \u001b[39min\u001b[39;00m \u001b[39mrange\u001b[39m(\u001b[39mself\u001b[39m\u001b[39m.\u001b[39mncols)}\n",
      "File \u001b[0;32m~/.local/lib/python3.10/site-packages/pandas/io/formats/format.py:895\u001b[0m, in \u001b[0;36mDataFrameFormatter.format_col\u001b[0;34m(self, i)\u001b[0m\n\u001b[1;32m    893\u001b[0m frame \u001b[39m=\u001b[39m \u001b[39mself\u001b[39m\u001b[39m.\u001b[39mtr_frame\n\u001b[1;32m    894\u001b[0m formatter \u001b[39m=\u001b[39m \u001b[39mself\u001b[39m\u001b[39m.\u001b[39m_get_formatter(i)\n\u001b[0;32m--> 895\u001b[0m \u001b[39mreturn\u001b[39;00m format_array(\n\u001b[1;32m    896\u001b[0m     frame\u001b[39m.\u001b[39;49miloc[:, i]\u001b[39m.\u001b[39;49m_values,\n\u001b[1;32m    897\u001b[0m     formatter,\n\u001b[1;32m    898\u001b[0m     float_format\u001b[39m=\u001b[39;49m\u001b[39mself\u001b[39;49m\u001b[39m.\u001b[39;49mfloat_format,\n\u001b[1;32m    899\u001b[0m     na_rep\u001b[39m=\u001b[39;49m\u001b[39mself\u001b[39;49m\u001b[39m.\u001b[39;49mna_rep,\n\u001b[1;32m    900\u001b[0m     space\u001b[39m=\u001b[39;49m\u001b[39mself\u001b[39;49m\u001b[39m.\u001b[39;49mcol_space\u001b[39m.\u001b[39;49mget(frame\u001b[39m.\u001b[39;49mcolumns[i]),\n\u001b[1;32m    901\u001b[0m     decimal\u001b[39m=\u001b[39;49m\u001b[39mself\u001b[39;49m\u001b[39m.\u001b[39;49mdecimal,\n\u001b[1;32m    902\u001b[0m     leading_space\u001b[39m=\u001b[39;49m\u001b[39mself\u001b[39;49m\u001b[39m.\u001b[39;49mindex,\n\u001b[1;32m    903\u001b[0m )\n",
      "File \u001b[0;32m~/.local/lib/python3.10/site-packages/pandas/io/formats/format.py:1330\u001b[0m, in \u001b[0;36mformat_array\u001b[0;34m(values, formatter, float_format, na_rep, digits, space, justify, decimal, leading_space, quoting, fallback_formatter)\u001b[0m\n\u001b[1;32m   1314\u001b[0m     digits \u001b[39m=\u001b[39m get_option(\u001b[39m\"\u001b[39m\u001b[39mdisplay.precision\u001b[39m\u001b[39m\"\u001b[39m)\n\u001b[1;32m   1316\u001b[0m fmt_obj \u001b[39m=\u001b[39m fmt_klass(\n\u001b[1;32m   1317\u001b[0m     values,\n\u001b[1;32m   1318\u001b[0m     digits\u001b[39m=\u001b[39mdigits,\n\u001b[0;32m   (...)\u001b[0m\n\u001b[1;32m   1327\u001b[0m     fallback_formatter\u001b[39m=\u001b[39mfallback_formatter,\n\u001b[1;32m   1328\u001b[0m )\n\u001b[0;32m-> 1330\u001b[0m \u001b[39mreturn\u001b[39;00m fmt_obj\u001b[39m.\u001b[39;49mget_result()\n",
      "File \u001b[0;32m~/.local/lib/python3.10/site-packages/pandas/io/formats/format.py:1363\u001b[0m, in \u001b[0;36mGenericArrayFormatter.get_result\u001b[0;34m(self)\u001b[0m\n\u001b[1;32m   1362\u001b[0m \u001b[39mdef\u001b[39;00m \u001b[39mget_result\u001b[39m(\u001b[39mself\u001b[39m) \u001b[39m-\u001b[39m\u001b[39m>\u001b[39m \u001b[39mlist\u001b[39m[\u001b[39mstr\u001b[39m]:\n\u001b[0;32m-> 1363\u001b[0m     fmt_values \u001b[39m=\u001b[39m \u001b[39mself\u001b[39;49m\u001b[39m.\u001b[39;49m_format_strings()\n\u001b[1;32m   1364\u001b[0m     \u001b[39mreturn\u001b[39;00m _make_fixed_width(fmt_values, \u001b[39mself\u001b[39m\u001b[39m.\u001b[39mjustify)\n",
      "File \u001b[0;32m~/.local/lib/python3.10/site-packages/pandas/io/formats/format.py:1430\u001b[0m, in \u001b[0;36mGenericArrayFormatter._format_strings\u001b[0;34m(self)\u001b[0m\n\u001b[1;32m   1428\u001b[0m \u001b[39mfor\u001b[39;00m i, v \u001b[39min\u001b[39;00m \u001b[39menumerate\u001b[39m(vals):\n\u001b[1;32m   1429\u001b[0m     \u001b[39mif\u001b[39;00m \u001b[39mnot\u001b[39;00m is_float_type[i] \u001b[39mand\u001b[39;00m leading_space \u001b[39mor\u001b[39;00m \u001b[39mself\u001b[39m\u001b[39m.\u001b[39mformatter \u001b[39mis\u001b[39;00m \u001b[39mnot\u001b[39;00m \u001b[39mNone\u001b[39;00m:\n\u001b[0;32m-> 1430\u001b[0m         fmt_values\u001b[39m.\u001b[39mappend(\u001b[39mf\u001b[39m\u001b[39m\"\u001b[39m\u001b[39m \u001b[39m\u001b[39m{\u001b[39;00m_format(v)\u001b[39m}\u001b[39;00m\u001b[39m\"\u001b[39m)\n\u001b[1;32m   1431\u001b[0m     \u001b[39melif\u001b[39;00m is_float_type[i]:\n\u001b[1;32m   1432\u001b[0m         fmt_values\u001b[39m.\u001b[39mappend(float_format(v))\n",
      "File \u001b[0;32m~/.local/lib/python3.10/site-packages/pandas/io/formats/format.py:1410\u001b[0m, in \u001b[0;36mGenericArrayFormatter._format_strings.<locals>._format\u001b[0;34m(x)\u001b[0m\n\u001b[1;32m   1407\u001b[0m     \u001b[39mreturn\u001b[39;00m \u001b[39mrepr\u001b[39m(x)\n\u001b[1;32m   1408\u001b[0m \u001b[39melse\u001b[39;00m:\n\u001b[1;32m   1409\u001b[0m     \u001b[39m# object dtype\u001b[39;00m\n\u001b[0;32m-> 1410\u001b[0m     \u001b[39mreturn\u001b[39;00m \u001b[39mstr\u001b[39m(formatter(x))\n",
      "File \u001b[0;32m~/.local/lib/python3.10/site-packages/pandas/io/formats/printing.py:222\u001b[0m, in \u001b[0;36mpprint_thing\u001b[0;34m(thing, _nest_lvl, escape_chars, default_escapes, quote_strings, max_seq_items)\u001b[0m\n\u001b[1;32m    218\u001b[0m     result \u001b[39m=\u001b[39m _pprint_dict(\n\u001b[1;32m    219\u001b[0m         thing, _nest_lvl, quote_strings\u001b[39m=\u001b[39m\u001b[39mTrue\u001b[39;00m, max_seq_items\u001b[39m=\u001b[39mmax_seq_items\n\u001b[1;32m    220\u001b[0m     )\n\u001b[1;32m    221\u001b[0m \u001b[39melif\u001b[39;00m is_sequence(thing) \u001b[39mand\u001b[39;00m _nest_lvl \u001b[39m<\u001b[39m get_option(\u001b[39m\"\u001b[39m\u001b[39mdisplay.pprint_nest_depth\u001b[39m\u001b[39m\"\u001b[39m):\n\u001b[0;32m--> 222\u001b[0m     result \u001b[39m=\u001b[39m _pprint_seq(\n\u001b[1;32m    223\u001b[0m         thing,\n\u001b[1;32m    224\u001b[0m         _nest_lvl,\n\u001b[1;32m    225\u001b[0m         escape_chars\u001b[39m=\u001b[39;49mescape_chars,\n\u001b[1;32m    226\u001b[0m         quote_strings\u001b[39m=\u001b[39;49mquote_strings,\n\u001b[1;32m    227\u001b[0m         max_seq_items\u001b[39m=\u001b[39;49mmax_seq_items,\n\u001b[1;32m    228\u001b[0m     )\n\u001b[1;32m    229\u001b[0m \u001b[39melif\u001b[39;00m \u001b[39misinstance\u001b[39m(thing, \u001b[39mstr\u001b[39m) \u001b[39mand\u001b[39;00m quote_strings:\n\u001b[1;32m    230\u001b[0m     result \u001b[39m=\u001b[39m \u001b[39mf\u001b[39m\u001b[39m\"\u001b[39m\u001b[39m'\u001b[39m\u001b[39m{\u001b[39;00mas_escaped_string(thing)\u001b[39m}\u001b[39;00m\u001b[39m'\u001b[39m\u001b[39m\"\u001b[39m\n",
      "File \u001b[0;32m~/.local/lib/python3.10/site-packages/pandas/io/formats/printing.py:119\u001b[0m, in \u001b[0;36m_pprint_seq\u001b[0;34m(seq, _nest_lvl, max_seq_items, **kwds)\u001b[0m\n\u001b[1;32m    117\u001b[0m s \u001b[39m=\u001b[39m \u001b[39miter\u001b[39m(seq)\n\u001b[1;32m    118\u001b[0m \u001b[39m# handle sets, no slicing\u001b[39;00m\n\u001b[0;32m--> 119\u001b[0m r \u001b[39m=\u001b[39m [\n\u001b[1;32m    120\u001b[0m     pprint_thing(\u001b[39mnext\u001b[39m(s), _nest_lvl \u001b[39m+\u001b[39m \u001b[39m1\u001b[39m, max_seq_items\u001b[39m=\u001b[39mmax_seq_items, \u001b[39m*\u001b[39m\u001b[39m*\u001b[39mkwds)\n\u001b[1;32m    121\u001b[0m     \u001b[39mfor\u001b[39;00m i \u001b[39min\u001b[39;00m \u001b[39mrange\u001b[39m(\u001b[39mmin\u001b[39m(nitems, \u001b[39mlen\u001b[39m(seq)))\n\u001b[1;32m    122\u001b[0m ]\n\u001b[1;32m    123\u001b[0m body \u001b[39m=\u001b[39m \u001b[39m\"\u001b[39m\u001b[39m, \u001b[39m\u001b[39m\"\u001b[39m\u001b[39m.\u001b[39mjoin(r)\n\u001b[1;32m    125\u001b[0m \u001b[39mif\u001b[39;00m nitems \u001b[39m<\u001b[39m \u001b[39mlen\u001b[39m(seq):\n",
      "File \u001b[0;32m~/.local/lib/python3.10/site-packages/pandas/io/formats/printing.py:120\u001b[0m, in \u001b[0;36m<listcomp>\u001b[0;34m(.0)\u001b[0m\n\u001b[1;32m    117\u001b[0m s \u001b[39m=\u001b[39m \u001b[39miter\u001b[39m(seq)\n\u001b[1;32m    118\u001b[0m \u001b[39m# handle sets, no slicing\u001b[39;00m\n\u001b[1;32m    119\u001b[0m r \u001b[39m=\u001b[39m [\n\u001b[0;32m--> 120\u001b[0m     pprint_thing(\u001b[39mnext\u001b[39;49m(s), _nest_lvl \u001b[39m+\u001b[39;49m \u001b[39m1\u001b[39;49m, max_seq_items\u001b[39m=\u001b[39;49mmax_seq_items, \u001b[39m*\u001b[39;49m\u001b[39m*\u001b[39;49mkwds)\n\u001b[1;32m    121\u001b[0m     \u001b[39mfor\u001b[39;00m i \u001b[39min\u001b[39;00m \u001b[39mrange\u001b[39m(\u001b[39mmin\u001b[39m(nitems, \u001b[39mlen\u001b[39m(seq)))\n\u001b[1;32m    122\u001b[0m ]\n\u001b[1;32m    123\u001b[0m body \u001b[39m=\u001b[39m \u001b[39m\"\u001b[39m\u001b[39m, \u001b[39m\u001b[39m\"\u001b[39m\u001b[39m.\u001b[39mjoin(r)\n\u001b[1;32m    125\u001b[0m \u001b[39mif\u001b[39;00m nitems \u001b[39m<\u001b[39m \u001b[39mlen\u001b[39m(seq):\n",
      "File \u001b[0;32m~/.local/lib/python3.10/site-packages/pandas/io/formats/printing.py:222\u001b[0m, in \u001b[0;36mpprint_thing\u001b[0;34m(thing, _nest_lvl, escape_chars, default_escapes, quote_strings, max_seq_items)\u001b[0m\n\u001b[1;32m    218\u001b[0m     result \u001b[39m=\u001b[39m _pprint_dict(\n\u001b[1;32m    219\u001b[0m         thing, _nest_lvl, quote_strings\u001b[39m=\u001b[39m\u001b[39mTrue\u001b[39;00m, max_seq_items\u001b[39m=\u001b[39mmax_seq_items\n\u001b[1;32m    220\u001b[0m     )\n\u001b[1;32m    221\u001b[0m \u001b[39melif\u001b[39;00m is_sequence(thing) \u001b[39mand\u001b[39;00m _nest_lvl \u001b[39m<\u001b[39m get_option(\u001b[39m\"\u001b[39m\u001b[39mdisplay.pprint_nest_depth\u001b[39m\u001b[39m\"\u001b[39m):\n\u001b[0;32m--> 222\u001b[0m     result \u001b[39m=\u001b[39m _pprint_seq(\n\u001b[1;32m    223\u001b[0m         thing,\n\u001b[1;32m    224\u001b[0m         _nest_lvl,\n\u001b[1;32m    225\u001b[0m         escape_chars\u001b[39m=\u001b[39;49mescape_chars,\n\u001b[1;32m    226\u001b[0m         quote_strings\u001b[39m=\u001b[39;49mquote_strings,\n\u001b[1;32m    227\u001b[0m         max_seq_items\u001b[39m=\u001b[39;49mmax_seq_items,\n\u001b[1;32m    228\u001b[0m     )\n\u001b[1;32m    229\u001b[0m \u001b[39melif\u001b[39;00m \u001b[39misinstance\u001b[39m(thing, \u001b[39mstr\u001b[39m) \u001b[39mand\u001b[39;00m quote_strings:\n\u001b[1;32m    230\u001b[0m     result \u001b[39m=\u001b[39m \u001b[39mf\u001b[39m\u001b[39m\"\u001b[39m\u001b[39m'\u001b[39m\u001b[39m{\u001b[39;00mas_escaped_string(thing)\u001b[39m}\u001b[39;00m\u001b[39m'\u001b[39m\u001b[39m\"\u001b[39m\n",
      "File \u001b[0;32m~/.local/lib/python3.10/site-packages/pandas/io/formats/printing.py:119\u001b[0m, in \u001b[0;36m_pprint_seq\u001b[0;34m(seq, _nest_lvl, max_seq_items, **kwds)\u001b[0m\n\u001b[1;32m    117\u001b[0m s \u001b[39m=\u001b[39m \u001b[39miter\u001b[39m(seq)\n\u001b[1;32m    118\u001b[0m \u001b[39m# handle sets, no slicing\u001b[39;00m\n\u001b[0;32m--> 119\u001b[0m r \u001b[39m=\u001b[39m [\n\u001b[1;32m    120\u001b[0m     pprint_thing(\u001b[39mnext\u001b[39m(s), _nest_lvl \u001b[39m+\u001b[39m \u001b[39m1\u001b[39m, max_seq_items\u001b[39m=\u001b[39mmax_seq_items, \u001b[39m*\u001b[39m\u001b[39m*\u001b[39mkwds)\n\u001b[1;32m    121\u001b[0m     \u001b[39mfor\u001b[39;00m i \u001b[39min\u001b[39;00m \u001b[39mrange\u001b[39m(\u001b[39mmin\u001b[39m(nitems, \u001b[39mlen\u001b[39m(seq)))\n\u001b[1;32m    122\u001b[0m ]\n\u001b[1;32m    123\u001b[0m body \u001b[39m=\u001b[39m \u001b[39m\"\u001b[39m\u001b[39m, \u001b[39m\u001b[39m\"\u001b[39m\u001b[39m.\u001b[39mjoin(r)\n\u001b[1;32m    125\u001b[0m \u001b[39mif\u001b[39;00m nitems \u001b[39m<\u001b[39m \u001b[39mlen\u001b[39m(seq):\n",
      "File \u001b[0;32m~/.local/lib/python3.10/site-packages/pandas/io/formats/printing.py:120\u001b[0m, in \u001b[0;36m<listcomp>\u001b[0;34m(.0)\u001b[0m\n\u001b[1;32m    117\u001b[0m s \u001b[39m=\u001b[39m \u001b[39miter\u001b[39m(seq)\n\u001b[1;32m    118\u001b[0m \u001b[39m# handle sets, no slicing\u001b[39;00m\n\u001b[1;32m    119\u001b[0m r \u001b[39m=\u001b[39m [\n\u001b[0;32m--> 120\u001b[0m     pprint_thing(\u001b[39mnext\u001b[39;49m(s), _nest_lvl \u001b[39m+\u001b[39m \u001b[39m1\u001b[39m, max_seq_items\u001b[39m=\u001b[39mmax_seq_items, \u001b[39m*\u001b[39m\u001b[39m*\u001b[39mkwds)\n\u001b[1;32m    121\u001b[0m     \u001b[39mfor\u001b[39;00m i \u001b[39min\u001b[39;00m \u001b[39mrange\u001b[39m(\u001b[39mmin\u001b[39m(nitems, \u001b[39mlen\u001b[39m(seq)))\n\u001b[1;32m    122\u001b[0m ]\n\u001b[1;32m    123\u001b[0m body \u001b[39m=\u001b[39m \u001b[39m\"\u001b[39m\u001b[39m, \u001b[39m\u001b[39m\"\u001b[39m\u001b[39m.\u001b[39mjoin(r)\n\u001b[1;32m    125\u001b[0m \u001b[39mif\u001b[39;00m nitems \u001b[39m<\u001b[39m \u001b[39mlen\u001b[39m(seq):\n",
      "File \u001b[0;32m~/.python/current/lib/python3.10/site-packages/imdb/utils.py:1503\u001b[0m, in \u001b[0;36m_Container.__getitem__\u001b[0;34m(self, key)\u001b[0m\n\u001b[1;32m   1501\u001b[0m     rawData \u001b[39m=\u001b[39m \u001b[39mself\u001b[39m\u001b[39m.\u001b[39mdata[\u001b[39mself\u001b[39m\u001b[39m.\u001b[39mkeys_alias[key]]\n\u001b[1;32m   1502\u001b[0m \u001b[39melse\u001b[39;00m:\n\u001b[0;32m-> 1503\u001b[0m     rawData \u001b[39m=\u001b[39m \u001b[39mself\u001b[39;49m\u001b[39m.\u001b[39;49mdata[key]\n\u001b[1;32m   1504\u001b[0m \u001b[39mif\u001b[39;00m key \u001b[39min\u001b[39;00m \u001b[39mself\u001b[39m\u001b[39m.\u001b[39mkeys_tomodify \u001b[39mand\u001b[39;00m \\\n\u001b[1;32m   1505\u001b[0m         \u001b[39mself\u001b[39m\u001b[39m.\u001b[39mmodFunct \u001b[39mnot\u001b[39;00m \u001b[39min\u001b[39;00m (\u001b[39mNone\u001b[39;00m, modNull):\n\u001b[1;32m   1506\u001b[0m     \u001b[39mtry\u001b[39;00m:\n",
      "\u001b[0;31mKeyError\u001b[0m: 0"
     ]
    }
   ],
   "source": [
    "df = pd.DataFrame(imdb_data[:1])\n",
    "df"
   ]
  }
 ],
 "metadata": {
  "kernelspec": {
   "display_name": "Python 3 (ipykernel)",
   "language": "python",
   "name": "python3"
  },
  "language_info": {
   "codemirror_mode": {
    "name": "ipython",
    "version": 3
   },
   "file_extension": ".py",
   "mimetype": "text/x-python",
   "name": "python",
   "nbconvert_exporter": "python",
   "pygments_lexer": "ipython3",
   "version": "3.10.4"
  },
  "orig_nbformat": 4
 },
 "nbformat": 4,
 "nbformat_minor": 2
}
