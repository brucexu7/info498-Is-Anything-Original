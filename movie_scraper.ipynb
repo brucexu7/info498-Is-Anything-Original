{
 "cells": [
  {
   "attachments": {},
   "cell_type": "markdown",
   "metadata": {},
   "source": [
    "## New IMDb Keyword Search\n",
    "Input a list of keywords into a scraper to get a dataset of movies on IMDb with any of those keywords.\n",
    "\n",
    "To run a smaller retrieval (max 50 items per keyword), set `is_test` to True. \n",
    "\n",
    "For an even smaller test (17 items) I like to run \"scary-clowns\" as the keyword.\n",
    "\n",
    "> _**NOTE:** If you get an `IMDbDataAccessError`, you've hit the rate limit and IMDb has blocked you from retrieving more data._"
   ]
  },
  {
   "cell_type": "code",
   "execution_count": null,
   "metadata": {},
   "outputs": [],
   "source": [
    "# ADD KEYWORDS\n",
    "my_keywords = [\"\"]\n",
    "scraper = MovieScraper(keywords = my_keywords, is_test = True)"
   ]
  },
  {
   "cell_type": "code",
   "execution_count": null,
   "metadata": {},
   "outputs": [],
   "source": [
    "# GET CSV \n",
    "filename = 'example-file' # don't include '.csv'\n",
    "scraper.export_csv(filename) "
   ]
  },
  {
   "cell_type": "code",
   "execution_count": null,
   "metadata": {},
   "outputs": [],
   "source": [
    "# READ THE CSV\n",
    "df = pd.read_csv(filename + '.csv')\n",
    "df"
   ]
  },
  {
   "attachments": {},
   "cell_type": "markdown",
   "metadata": {},
   "source": [
    "### Movie Scraper Class"
   ]
  },
  {
   "cell_type": "code",
   "execution_count": null,
   "metadata": {},
   "outputs": [],
   "source": [
    "%pip install git+https://github.com/cinemagoer/cinemagoer\n",
    "%pip install --upgrade pip"
   ]
  },
  {
   "cell_type": "code",
   "execution_count": 1,
   "metadata": {},
   "outputs": [],
   "source": [
    "from IPython.display import clear_output\n",
    "from imdb import Cinemagoer\n",
    "import pandas as pd\n",
    "import time\n",
    "import requests\n",
    "\n",
    "ia = Cinemagoer()"
   ]
  },
  {
   "cell_type": "code",
   "execution_count": 2,
   "metadata": {},
   "outputs": [],
   "source": [
    "class MovieScraper:\n",
    "    def __init__(self, keywords, is_test):\n",
    "        # Create list of IDs\n",
    "        if (is_test):\n",
    "            self.ids = self.get_test_ids(keywords)\n",
    "        else:\n",
    "            self.ids = self.get_full_ids(keywords)\n",
    "        # Create movies dataframe \n",
    "        self.movies_df = self.create_dataframe()\n",
    "\n",
    "    def export_csv(self, filename):\n",
    "        filename += '.csv'\n",
    "        self.movies_df.to_csv(filename, index=False)\n",
    "\n",
    "    def get_full_ids(self, keywords):\n",
    "        search_id = []\n",
    "        for key in keywords:\n",
    "            page_items = 1\n",
    "            i = 1\n",
    "            search = []\n",
    "            while (page_items > 0):\n",
    "                new_collect = ia.get_keyword(key, page=i)\n",
    "                search.extend(new_collect)\n",
    "                page_items = len(new_collect)\n",
    "                i += 1\n",
    "                print(\"Retrieved page\", i)\n",
    "\n",
    "            search_id.extend([title.movieID for title in search])\n",
    "            print(key, \": Collected\", len(search_id), \"IDs over\", i-2, \"pages\")\n",
    "            print(search_id)\n",
    "        og_length = len(search_id)\n",
    "        search_id = [*set(search_id)] # Removes duplicate ids from overlaps in keywords\n",
    "        print(\"Total:\", len(search_id), \"IDs collected - Removed\", og_length-len(search_id), \"duplicates\")\n",
    "        return search_id\n",
    "    \n",
    "    def get_test_ids(self, keywords):\n",
    "        search_id = []\n",
    "        for key in keywords:    \n",
    "            search = ia.get_keyword(key, page=1)\n",
    "            search_id.extend([title.movieID for title in search])\n",
    "            print(key, \": Collected\", len(search_id), \"IDs\")\n",
    "        og_length = len(search_id)\n",
    "        search_id = [*set(search_id)] # Removes duplicate ids from overlaps in keywords\n",
    "        print(\"Total:\", len(search_id), \"IDs collected - Removed\", og_length-len(search_id), \"duplicates\")\n",
    "        return search_id\n",
    "    \n",
    "    # CREATE DATA FRAME\n",
    "    def create_dataframe(self):\n",
    "        imdb_data = []\n",
    "        error_counter = 0\n",
    "        id_list = self.ids\n",
    "        for id in id_list:\n",
    "            try:\n",
    "                movie_info = self.get_movie_info(id)\n",
    "            except:\n",
    "                error_counter += 1\n",
    "                print('Error occurred:', ia.get_movie(id)['title'])\n",
    "                movie_info = {'imdbID': None,\n",
    "                    'title': None,\n",
    "                    'production companies': None,\n",
    "                    'director': None,\n",
    "                    'producer': None,\n",
    "                    'genres': None,\n",
    "                    'keywords': None,\n",
    "                    'rating': None,\n",
    "                    'votes': None\n",
    "                    }\n",
    "            imdb_data.append(movie_info)\n",
    "\n",
    "        # Remove empty rows from imdb_data\n",
    "        imdb_data = [item for item in imdb_data if item is not None and item['imdbID'] is not None]\n",
    "        # Report errors and removed\n",
    "        print(\"Completed with\", error_counter, \"Errors and\", (len(id_list) - len(imdb_data) - error_counter), \"Removed Value(s)\")\n",
    "        df = pd.DataFrame(imdb_data)\n",
    "        return df\n",
    "\n",
    "    # HELPER - Returns information for media based on inputted ID if media is a movie. If not, returns None and prints that it was removed\n",
    "    def get_movie_info(self, id):\n",
    "        res = ia.get_movie(id)\n",
    "        ia.update(res, 'keywords')\n",
    "        \n",
    "        if (res['kind'] == \"movie\"):\n",
    "            return {'imdbID': id,\n",
    "                'title': res.get('title'),\n",
    "                'production companies': self.normalize_objects(res.get('production companies')),\n",
    "                'director': self.normalize_objects(res.get('director')),\n",
    "                'producer': self.normalize_objects(res.get('producer')),\n",
    "                'genres': res.get('genres'),\n",
    "                'keywords': res.get('keywords'),\n",
    "                'rating': res.get('rating'),\n",
    "                'votes': res.get('votes')\n",
    "                }\n",
    "        else:\n",
    "            #print(\"Removed - Not a Movie: \", ia.get_movie(id)['title'])\n",
    "\n",
    "    # HELPER - Method takes a list of Person or Company objects and returns it as a list of dicts with an ID and name\n",
    "    def normalize_objects(self, objects):\n",
    "        # Stores type value for IMDb Person object \n",
    "        test = ia.get_movie('0380510', ['main', 'vote details'])\n",
    "        personType = type(test.get('producer')[0])\n",
    "        \n",
    "        new_list = []\n",
    "        for item in objects:\n",
    "            if type(item) is personType:\n",
    "                id = item.personID\n",
    "            else:\n",
    "                id = item.companyID\n",
    "            name = item.data['name']\n",
    "            new_list.append({\n",
    "                'id': id,\n",
    "                'name': name\n",
    "            })\n",
    "        return new_list"
   ]
  }
 ],
 "metadata": {
  "kernelspec": {
   "display_name": "Python 3",
   "language": "python",
   "name": "python3"
  },
  "language_info": {
   "codemirror_mode": {
    "name": "ipython",
    "version": 3
   },
   "file_extension": ".py",
   "mimetype": "text/x-python",
   "name": "python",
   "nbconvert_exporter": "python",
   "pygments_lexer": "ipython3",
   "version": "3.10.4"
  },
  "orig_nbformat": 4
 },
 "nbformat": 4,
 "nbformat_minor": 2
}
